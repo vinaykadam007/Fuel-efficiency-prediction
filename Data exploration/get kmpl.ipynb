{
 "cells": [
  {
   "cell_type": "code",
   "execution_count": 2,
   "metadata": {},
   "outputs": [
    {
     "data": {
      "text/html": [
       "<div>\n",
       "<style scoped>\n",
       "    .dataframe tbody tr th:only-of-type {\n",
       "        vertical-align: middle;\n",
       "    }\n",
       "\n",
       "    .dataframe tbody tr th {\n",
       "        vertical-align: top;\n",
       "    }\n",
       "\n",
       "    .dataframe thead th {\n",
       "        text-align: right;\n",
       "    }\n",
       "</style>\n",
       "<table border=\"1\" class=\"dataframe\">\n",
       "  <thead>\n",
       "    <tr style=\"text-align: right;\">\n",
       "      <th></th>\n",
       "      <th>OBU_ID</th>\n",
       "      <th>KMPL</th>\n",
       "      <th>RED</th>\n",
       "      <th>GREEN</th>\n",
       "      <th>YELLOW</th>\n",
       "      <th>IDLE</th>\n",
       "    </tr>\n",
       "  </thead>\n",
       "  <tbody>\n",
       "    <tr>\n",
       "      <th>0</th>\n",
       "      <td>1240</td>\n",
       "      <td>2.914945</td>\n",
       "      <td>4.765146</td>\n",
       "      <td>45.677332</td>\n",
       "      <td>35.534377</td>\n",
       "      <td>13.955071</td>\n",
       "    </tr>\n",
       "    <tr>\n",
       "      <th>1</th>\n",
       "      <td>1241</td>\n",
       "      <td>3.368209</td>\n",
       "      <td>0.604396</td>\n",
       "      <td>28.846154</td>\n",
       "      <td>40.824176</td>\n",
       "      <td>29.450549</td>\n",
       "    </tr>\n",
       "    <tr>\n",
       "      <th>2</th>\n",
       "      <td>1246</td>\n",
       "      <td>3.370760</td>\n",
       "      <td>1.093840</td>\n",
       "      <td>45.077720</td>\n",
       "      <td>31.606218</td>\n",
       "      <td>22.164652</td>\n",
       "    </tr>\n",
       "    <tr>\n",
       "      <th>3</th>\n",
       "      <td>1251</td>\n",
       "      <td>1.402340</td>\n",
       "      <td>0.000000</td>\n",
       "      <td>0.000000</td>\n",
       "      <td>0.000000</td>\n",
       "      <td>100.000000</td>\n",
       "    </tr>\n",
       "    <tr>\n",
       "      <th>4</th>\n",
       "      <td>1252</td>\n",
       "      <td>2.867187</td>\n",
       "      <td>0.520833</td>\n",
       "      <td>4.166667</td>\n",
       "      <td>10.416667</td>\n",
       "      <td>84.895833</td>\n",
       "    </tr>\n",
       "  </tbody>\n",
       "</table>\n",
       "</div>"
      ],
      "text/plain": [
       "   OBU_ID      KMPL       RED      GREEN     YELLOW        IDLE\n",
       "0    1240  2.914945  4.765146  45.677332  35.534377   13.955071\n",
       "1    1241  3.368209  0.604396  28.846154  40.824176   29.450549\n",
       "2    1246  3.370760  1.093840  45.077720  31.606218   22.164652\n",
       "3    1251  1.402340  0.000000   0.000000   0.000000  100.000000\n",
       "4    1252  2.867187  0.520833   4.166667  10.416667   84.895833"
      ]
     },
     "execution_count": 2,
     "metadata": {},
     "output_type": "execute_result"
    }
   ],
   "source": [
    "import pandas as pd\n",
    "daf=pd.read_excel('4th_july.xlsx','3718')\n",
    "daf.head()"
   ]
  },
  {
   "cell_type": "code",
   "execution_count": 3,
   "metadata": {},
   "outputs": [
    {
     "data": {
      "text/html": [
       "<div>\n",
       "<style scoped>\n",
       "    .dataframe tbody tr th:only-of-type {\n",
       "        vertical-align: middle;\n",
       "    }\n",
       "\n",
       "    .dataframe tbody tr th {\n",
       "        vertical-align: top;\n",
       "    }\n",
       "\n",
       "    .dataframe thead th {\n",
       "        text-align: right;\n",
       "    }\n",
       "</style>\n",
       "<table border=\"1\" class=\"dataframe\">\n",
       "  <thead>\n",
       "    <tr style=\"text-align: right;\">\n",
       "      <th></th>\n",
       "      <th>OBU_ID</th>\n",
       "      <th>KMPL</th>\n",
       "      <th>RED</th>\n",
       "      <th>GREEN</th>\n",
       "      <th>YELLOW</th>\n",
       "      <th>IDLE</th>\n",
       "    </tr>\n",
       "  </thead>\n",
       "  <tbody>\n",
       "    <tr>\n",
       "      <th>0</th>\n",
       "      <td>1240</td>\n",
       "      <td>2.914945</td>\n",
       "      <td>4.765146</td>\n",
       "      <td>45.677332</td>\n",
       "      <td>35.534377</td>\n",
       "      <td>13.955071</td>\n",
       "    </tr>\n",
       "    <tr>\n",
       "      <th>1</th>\n",
       "      <td>1241</td>\n",
       "      <td>3.368209</td>\n",
       "      <td>0.604396</td>\n",
       "      <td>28.846154</td>\n",
       "      <td>40.824176</td>\n",
       "      <td>29.450549</td>\n",
       "    </tr>\n",
       "    <tr>\n",
       "      <th>2</th>\n",
       "      <td>1246</td>\n",
       "      <td>3.370760</td>\n",
       "      <td>1.093840</td>\n",
       "      <td>45.077720</td>\n",
       "      <td>31.606218</td>\n",
       "      <td>22.164652</td>\n",
       "    </tr>\n",
       "    <tr>\n",
       "      <th>3</th>\n",
       "      <td>1251</td>\n",
       "      <td>1.402340</td>\n",
       "      <td>0.000000</td>\n",
       "      <td>0.000000</td>\n",
       "      <td>0.000000</td>\n",
       "      <td>100.000000</td>\n",
       "    </tr>\n",
       "    <tr>\n",
       "      <th>4</th>\n",
       "      <td>1252</td>\n",
       "      <td>2.867187</td>\n",
       "      <td>0.520833</td>\n",
       "      <td>4.166667</td>\n",
       "      <td>10.416667</td>\n",
       "      <td>84.895833</td>\n",
       "    </tr>\n",
       "  </tbody>\n",
       "</table>\n",
       "</div>"
      ],
      "text/plain": [
       "   OBU_ID      KMPL       RED      GREEN     YELLOW        IDLE\n",
       "0    1240  2.914945  4.765146  45.677332  35.534377   13.955071\n",
       "1    1241  3.368209  0.604396  28.846154  40.824176   29.450549\n",
       "2    1246  3.370760  1.093840  45.077720  31.606218   22.164652\n",
       "3    1251  1.402340  0.000000   0.000000   0.000000  100.000000\n",
       "4    1252  2.867187  0.520833   4.166667  10.416667   84.895833"
      ]
     },
     "execution_count": 3,
     "metadata": {},
     "output_type": "execute_result"
    }
   ],
   "source": [
    "daf = daf.dropna(subset=['KMPL','RED','GREEN','YELLOW','IDLE'])\n",
    "daf.head()"
   ]
  },
  {
   "cell_type": "code",
   "execution_count": 4,
   "metadata": {},
   "outputs": [],
   "source": [
    "df = daf['RED']+daf['GREEN']+daf['YELLOW']\n",
    "daf['SUM'] = df"
   ]
  },
  {
   "cell_type": "code",
   "execution_count": 5,
   "metadata": {},
   "outputs": [
    {
     "data": {
      "text/html": [
       "<div>\n",
       "<style scoped>\n",
       "    .dataframe tbody tr th:only-of-type {\n",
       "        vertical-align: middle;\n",
       "    }\n",
       "\n",
       "    .dataframe tbody tr th {\n",
       "        vertical-align: top;\n",
       "    }\n",
       "\n",
       "    .dataframe thead th {\n",
       "        text-align: right;\n",
       "    }\n",
       "</style>\n",
       "<table border=\"1\" class=\"dataframe\">\n",
       "  <thead>\n",
       "    <tr style=\"text-align: right;\">\n",
       "      <th></th>\n",
       "      <th>OBU_ID</th>\n",
       "      <th>KMPL</th>\n",
       "      <th>RED</th>\n",
       "      <th>GREEN</th>\n",
       "      <th>YELLOW</th>\n",
       "      <th>IDLE</th>\n",
       "      <th>SUM</th>\n",
       "    </tr>\n",
       "  </thead>\n",
       "  <tbody>\n",
       "    <tr>\n",
       "      <th>0</th>\n",
       "      <td>1240</td>\n",
       "      <td>2.914945</td>\n",
       "      <td>4.765146</td>\n",
       "      <td>45.677332</td>\n",
       "      <td>35.534377</td>\n",
       "      <td>13.955071</td>\n",
       "      <td>85.976855</td>\n",
       "    </tr>\n",
       "    <tr>\n",
       "      <th>1</th>\n",
       "      <td>1241</td>\n",
       "      <td>3.368209</td>\n",
       "      <td>0.604396</td>\n",
       "      <td>28.846154</td>\n",
       "      <td>40.824176</td>\n",
       "      <td>29.450549</td>\n",
       "      <td>70.274725</td>\n",
       "    </tr>\n",
       "    <tr>\n",
       "      <th>2</th>\n",
       "      <td>1246</td>\n",
       "      <td>3.370760</td>\n",
       "      <td>1.093840</td>\n",
       "      <td>45.077720</td>\n",
       "      <td>31.606218</td>\n",
       "      <td>22.164652</td>\n",
       "      <td>77.777778</td>\n",
       "    </tr>\n",
       "    <tr>\n",
       "      <th>3</th>\n",
       "      <td>1251</td>\n",
       "      <td>1.402340</td>\n",
       "      <td>0.000000</td>\n",
       "      <td>0.000000</td>\n",
       "      <td>0.000000</td>\n",
       "      <td>100.000000</td>\n",
       "      <td>0.000000</td>\n",
       "    </tr>\n",
       "    <tr>\n",
       "      <th>4</th>\n",
       "      <td>1252</td>\n",
       "      <td>2.867187</td>\n",
       "      <td>0.520833</td>\n",
       "      <td>4.166667</td>\n",
       "      <td>10.416667</td>\n",
       "      <td>84.895833</td>\n",
       "      <td>15.104167</td>\n",
       "    </tr>\n",
       "  </tbody>\n",
       "</table>\n",
       "</div>"
      ],
      "text/plain": [
       "   OBU_ID      KMPL       RED      GREEN     YELLOW        IDLE        SUM\n",
       "0    1240  2.914945  4.765146  45.677332  35.534377   13.955071  85.976855\n",
       "1    1241  3.368209  0.604396  28.846154  40.824176   29.450549  70.274725\n",
       "2    1246  3.370760  1.093840  45.077720  31.606218   22.164652  77.777778\n",
       "3    1251  1.402340  0.000000   0.000000   0.000000  100.000000   0.000000\n",
       "4    1252  2.867187  0.520833   4.166667  10.416667   84.895833  15.104167"
      ]
     },
     "execution_count": 5,
     "metadata": {},
     "output_type": "execute_result"
    }
   ],
   "source": [
    "daf.head()"
   ]
  },
  {
   "cell_type": "code",
   "execution_count": 6,
   "metadata": {},
   "outputs": [
    {
     "data": {
      "text/plain": [
       "<matplotlib.collections.PathCollection at 0x1cba16d37f0>"
      ]
     },
     "execution_count": 6,
     "metadata": {},
     "output_type": "execute_result"
    }
   ],
   "source": [
    "import matplotlib.pyplot as plt\n",
    "plt.figure(figsize=(15,10))\n",
    "plt.scatter(daf['SUM'],daf['KMPL'])\n",
    "#plt.scatter(daf['SUM'],daf['RED'])\n",
    "#plt.scatter(daf['SUM'],daf['GREEN'])"
   ]
  },
  {
   "cell_type": "code",
   "execution_count": 7,
   "metadata": {},
   "outputs": [
    {
     "data": {
      "text/html": [
       "<div>\n",
       "<style scoped>\n",
       "    .dataframe tbody tr th:only-of-type {\n",
       "        vertical-align: middle;\n",
       "    }\n",
       "\n",
       "    .dataframe tbody tr th {\n",
       "        vertical-align: top;\n",
       "    }\n",
       "\n",
       "    .dataframe thead th {\n",
       "        text-align: right;\n",
       "    }\n",
       "</style>\n",
       "<table border=\"1\" class=\"dataframe\">\n",
       "  <thead>\n",
       "    <tr style=\"text-align: right;\">\n",
       "      <th></th>\n",
       "      <th>OBU_ID</th>\n",
       "      <th>KMPL</th>\n",
       "      <th>RED</th>\n",
       "      <th>GREEN</th>\n",
       "      <th>YELLOW</th>\n",
       "      <th>IDLE</th>\n",
       "      <th>SUM</th>\n",
       "      <th>AVG</th>\n",
       "    </tr>\n",
       "  </thead>\n",
       "  <tbody>\n",
       "    <tr>\n",
       "      <th>0</th>\n",
       "      <td>1240</td>\n",
       "      <td>2.914945</td>\n",
       "      <td>4.765146</td>\n",
       "      <td>45.677332</td>\n",
       "      <td>35.534377</td>\n",
       "      <td>13.955071</td>\n",
       "      <td>85.976855</td>\n",
       "      <td>62.287270</td>\n",
       "    </tr>\n",
       "    <tr>\n",
       "      <th>1</th>\n",
       "      <td>1241</td>\n",
       "      <td>3.368209</td>\n",
       "      <td>0.604396</td>\n",
       "      <td>28.846154</td>\n",
       "      <td>40.824176</td>\n",
       "      <td>29.450549</td>\n",
       "      <td>70.274725</td>\n",
       "      <td>43.058608</td>\n",
       "    </tr>\n",
       "    <tr>\n",
       "      <th>2</th>\n",
       "      <td>1246</td>\n",
       "      <td>3.370760</td>\n",
       "      <td>1.093840</td>\n",
       "      <td>45.077720</td>\n",
       "      <td>31.606218</td>\n",
       "      <td>22.164652</td>\n",
       "      <td>77.777778</td>\n",
       "      <td>56.706966</td>\n",
       "    </tr>\n",
       "    <tr>\n",
       "      <th>3</th>\n",
       "      <td>1251</td>\n",
       "      <td>1.402340</td>\n",
       "      <td>0.000000</td>\n",
       "      <td>0.000000</td>\n",
       "      <td>0.000000</td>\n",
       "      <td>100.000000</td>\n",
       "      <td>0.000000</td>\n",
       "      <td>0.000000</td>\n",
       "    </tr>\n",
       "    <tr>\n",
       "      <th>4</th>\n",
       "      <td>1252</td>\n",
       "      <td>2.867187</td>\n",
       "      <td>0.520833</td>\n",
       "      <td>4.166667</td>\n",
       "      <td>10.416667</td>\n",
       "      <td>84.895833</td>\n",
       "      <td>15.104167</td>\n",
       "      <td>8.159722</td>\n",
       "    </tr>\n",
       "  </tbody>\n",
       "</table>\n",
       "</div>"
      ],
      "text/plain": [
       "   OBU_ID      KMPL       RED      GREEN     YELLOW        IDLE        SUM  \\\n",
       "0    1240  2.914945  4.765146  45.677332  35.534377   13.955071  85.976855   \n",
       "1    1241  3.368209  0.604396  28.846154  40.824176   29.450549  70.274725   \n",
       "2    1246  3.370760  1.093840  45.077720  31.606218   22.164652  77.777778   \n",
       "3    1251  1.402340  0.000000   0.000000   0.000000  100.000000   0.000000   \n",
       "4    1252  2.867187  0.520833   4.166667  10.416667   84.895833  15.104167   \n",
       "\n",
       "         AVG  \n",
       "0  62.287270  \n",
       "1  43.058608  \n",
       "2  56.706966  \n",
       "3   0.000000  \n",
       "4   8.159722  "
      ]
     },
     "execution_count": 7,
     "metadata": {},
     "output_type": "execute_result"
    }
   ],
   "source": [
    "df1 = daf['RED']+daf['GREEN']+daf['YELLOW']/3\n",
    "daf['AVG'] = df1\n",
    "daf.head()"
   ]
  },
  {
   "cell_type": "code",
   "execution_count": 8,
   "metadata": {},
   "outputs": [
    {
     "data": {
      "text/plain": [
       "<matplotlib.collections.PathCollection at 0x1cba1d540b8>"
      ]
     },
     "execution_count": 8,
     "metadata": {},
     "output_type": "execute_result"
    },
    {
     "data": {
      "image/png": "[encoded data removed]",
      "text/plain": [
       "<Figure size 1080x720 with 1 Axes>"
      ]
     },
     "metadata": {},
     "output_type": "display_data"
    }
   ],
   "source": [
    "plt.figure(figsize=(15,10))\n",
    "plt.scatter(daf['SUM'],daf['KMPL'])"
   ]
  },
  {
   "cell_type": "code",
   "execution_count": 9,
   "metadata": {},
   "outputs": [
    {
     "data": {
      "text/plain": [
       "<matplotlib.collections.PathCollection at 0x1cba1d74208>"
      ]
     },
     "execution_count": 9,
     "metadata": {},
     "output_type": "execute_result"
    },
    {
     "data": {
      "image/png": "[encoded data removed]",
      "text/plain": [
       "<Figure size 1080x720 with 1 Axes>"
      ]
     },
     "metadata": {},
     "output_type": "display_data"
    }
   ],
   "source": [
    "plt.figure(figsize=(15,10))\n",
    "plt.scatter(daf['GREEN'],daf['KMPL'])"
   ]
  },
  {
   "cell_type": "code",
   "execution_count": 11,
   "metadata": {},
   "outputs": [
    {
     "ename": "PermissionError",
     "evalue": "[Errno 13] Permission denied: 'param.csv'",
     "output_type": "error",
     "traceback": [
      "\u001b[1;31m---------------------------------------------------------------------------\u001b[0m",
      "\u001b[1;31mPermissionError\u001b[0m                           Traceback (most recent call last)",
      "\u001b[1;32m<ipython-input-11-11f61d271b29>\u001b[0m in \u001b[0;36m<module>\u001b[1;34m()\u001b[0m\n\u001b[0;32m      2\u001b[0m \u001b[0mdaf\u001b[0m\u001b[1;33m[\u001b[0m\u001b[1;34m'STD'\u001b[0m\u001b[1;33m]\u001b[0m\u001b[1;33m=\u001b[0m\u001b[0mdf2\u001b[0m\u001b[1;33m\u001b[0m\u001b[0m\n\u001b[0;32m      3\u001b[0m \u001b[0mdaf\u001b[0m\u001b[1;33m.\u001b[0m\u001b[0mhead\u001b[0m\u001b[1;33m(\u001b[0m\u001b[1;33m)\u001b[0m\u001b[1;33m\u001b[0m\u001b[0m\n\u001b[1;32m----> 4\u001b[1;33m \u001b[0mdaf\u001b[0m\u001b[1;33m.\u001b[0m\u001b[0mto_csv\u001b[0m\u001b[1;33m(\u001b[0m\u001b[1;34m'param.csv'\u001b[0m\u001b[1;33m,\u001b[0m\u001b[0msep\u001b[0m\u001b[1;33m=\u001b[0m\u001b[1;34m','\u001b[0m\u001b[1;33m)\u001b[0m\u001b[1;33m\u001b[0m\u001b[0m\n\u001b[0m",
      "\u001b[1;32mc:\\users\\anil\\appdata\\local\\programs\\python\\python36\\lib\\site-packages\\pandas\\core\\frame.py\u001b[0m in \u001b[0;36mto_csv\u001b[1;34m(self, path_or_buf, sep, na_rep, float_format, columns, header, index, index_label, mode, encoding, compression, quoting, quotechar, line_terminator, chunksize, tupleize_cols, date_format, doublequote, escapechar, decimal)\u001b[0m\n\u001b[0;32m   1743\u001b[0m                                  \u001b[0mdoublequote\u001b[0m\u001b[1;33m=\u001b[0m\u001b[0mdoublequote\u001b[0m\u001b[1;33m,\u001b[0m\u001b[1;33m\u001b[0m\u001b[0m\n\u001b[0;32m   1744\u001b[0m                                  escapechar=escapechar, decimal=decimal)\n\u001b[1;32m-> 1745\u001b[1;33m         \u001b[0mformatter\u001b[0m\u001b[1;33m.\u001b[0m\u001b[0msave\u001b[0m\u001b[1;33m(\u001b[0m\u001b[1;33m)\u001b[0m\u001b[1;33m\u001b[0m\u001b[0m\n\u001b[0m\u001b[0;32m   1746\u001b[0m \u001b[1;33m\u001b[0m\u001b[0m\n\u001b[0;32m   1747\u001b[0m         \u001b[1;32mif\u001b[0m \u001b[0mpath_or_buf\u001b[0m \u001b[1;32mis\u001b[0m \u001b[1;32mNone\u001b[0m\u001b[1;33m:\u001b[0m\u001b[1;33m\u001b[0m\u001b[0m\n",
      "\u001b[1;32mc:\\users\\anil\\appdata\\local\\programs\\python\\python36\\lib\\site-packages\\pandas\\io\\formats\\csvs.py\u001b[0m in \u001b[0;36msave\u001b[1;34m(self)\u001b[0m\n\u001b[0;32m    134\u001b[0m             f, handles = _get_handle(self.path_or_buf, self.mode,\n\u001b[0;32m    135\u001b[0m                                      \u001b[0mencoding\u001b[0m\u001b[1;33m=\u001b[0m\u001b[0mencoding\u001b[0m\u001b[1;33m,\u001b[0m\u001b[1;33m\u001b[0m\u001b[0m\n\u001b[1;32m--> 136\u001b[1;33m                                      compression=None)\n\u001b[0m\u001b[0;32m    137\u001b[0m             \u001b[0mclose\u001b[0m \u001b[1;33m=\u001b[0m \u001b[1;32mTrue\u001b[0m \u001b[1;32mif\u001b[0m \u001b[0mself\u001b[0m\u001b[1;33m.\u001b[0m\u001b[0mcompression\u001b[0m \u001b[1;32mis\u001b[0m \u001b[1;32mNone\u001b[0m \u001b[1;32melse\u001b[0m \u001b[1;32mFalse\u001b[0m\u001b[1;33m\u001b[0m\u001b[0m\n\u001b[0;32m    138\u001b[0m \u001b[1;33m\u001b[0m\u001b[0m\n",
      "\u001b[1;32mc:\\users\\anil\\appdata\\local\\programs\\python\\python36\\lib\\site-packages\\pandas\\io\\common.py\u001b[0m in \u001b[0;36m_get_handle\u001b[1;34m(path_or_buf, mode, encoding, compression, memory_map, is_text)\u001b[0m\n\u001b[0;32m    398\u001b[0m         \u001b[1;32melif\u001b[0m \u001b[0mencoding\u001b[0m\u001b[1;33m:\u001b[0m\u001b[1;33m\u001b[0m\u001b[0m\n\u001b[0;32m    399\u001b[0m             \u001b[1;31m# Python 3 and encoding\u001b[0m\u001b[1;33m\u001b[0m\u001b[1;33m\u001b[0m\u001b[0m\n\u001b[1;32m--> 400\u001b[1;33m             \u001b[0mf\u001b[0m \u001b[1;33m=\u001b[0m \u001b[0mopen\u001b[0m\u001b[1;33m(\u001b[0m\u001b[0mpath_or_buf\u001b[0m\u001b[1;33m,\u001b[0m \u001b[0mmode\u001b[0m\u001b[1;33m,\u001b[0m \u001b[0mencoding\u001b[0m\u001b[1;33m=\u001b[0m\u001b[0mencoding\u001b[0m\u001b[1;33m)\u001b[0m\u001b[1;33m\u001b[0m\u001b[0m\n\u001b[0m\u001b[0;32m    401\u001b[0m         \u001b[1;32melif\u001b[0m \u001b[0mis_text\u001b[0m\u001b[1;33m:\u001b[0m\u001b[1;33m\u001b[0m\u001b[0m\n\u001b[0;32m    402\u001b[0m             \u001b[1;31m# Python 3 and no explicit encoding\u001b[0m\u001b[1;33m\u001b[0m\u001b[1;33m\u001b[0m\u001b[0m\n",
      "\u001b[1;31mPermissionError\u001b[0m: [Errno 13] Permission denied: 'param.csv'"
     ]
    }
   ],
   "source": [
    "df2=daf.std(axis=1)\n",
    "daf['STD']=df2\n",
    "daf.head()\n",
    "daf.to_csv('param.csv',sep=',')"
   ]
  },
  {
   "cell_type": "code",
   "execution_count": null,
   "metadata": {
    "scrolled": true
   },
   "outputs": [],
   "source": [
    "plt.figure(figsize=(15,10))\n",
    "plt.scatter(daf['AVG'],daf['KMPL'])"
   ]
  },
  {
   "cell_type": "code",
   "execution_count": null,
   "metadata": {},
   "outputs": [],
   "source": [
    "import seaborn as sb\n",
    "sb.heatmap(daf.corr(), annot = True, fmt = '.1f')\n"
   ]
  },
  {
   "cell_type": "code",
   "execution_count": null,
   "metadata": {},
   "outputs": [],
   "source": [
    "import numpy as np\n",
    "\n",
    "z=np.array(daf['GREEN']).reshape(-1,1)\n",
    "w =np.array(daf['SUM']).reshape(-1,1)\n",
    "v=np.array(daf['IDLE']).reshape(-1,1)\n",
    "\n",
    "\n",
    "from sklearn.model_selection import train_test_split\n",
    "X_train, X_test, Y_train, Y_test = train_test_split(daf[['GREEN','AVG','SUM']],y, test_size=0.2)\n",
    "x = np.array(X_train).reshape(-1,1)\n",
    "y = daf['KMPL']"
   ]
  },
  {
   "cell_type": "code",
   "execution_count": null,
   "metadata": {},
   "outputs": [],
   "source": [
    "from sklearn.preprocessing import PolynomialFeatures \n",
    "from sklearn.linear_model import LinearRegression\n",
    "poly = PolynomialFeatures(degree=3)\n",
    "\n",
    "QuadraticCoeff_1 = poly.fit_transform(x)\n",
    "#QuadraticCoeff_2 = poly.fit_transform(z,w)\n",
    "#QuadraticCoeff_3 = poly.fit_transform(w)\n"
   ]
  },
  {
   "cell_type": "code",
   "execution_count": null,
   "metadata": {},
   "outputs": [],
   "source": [
    "model = LinearRegression() #SGDRegressor(loss=\"squared_loss\", max_iter=10000)\n",
    "model.fit(QuadraticCoeff_1,y)\n",
    "#print(len(model.predict(x)))\n",
    "#print(len(model.predict(z)))\n",
    "print(len(model.predict(QuadraticCoeff_1)))"
   ]
  },
  {
   "cell_type": "code",
   "execution_count": null,
   "metadata": {},
   "outputs": [],
   "source": [
    "model.score(daf[['GREEN','AVG','SUM']],y)"
   ]
  },
  {
   "cell_type": "code",
   "execution_count": null,
   "metadata": {},
   "outputs": [],
   "source": [
    "#xx = np.linspace(0, 80, 68).reshape(-1,1)\n",
    "\n",
    "#yy=np.linspace(0, 80, 68).reshape(-1,1)\n",
    "\n",
    "#xx_quadratic = poly.fit_transform(xx)\n",
    "#yy_quadratic=poly.fit_transform(yy)\n",
    "\n",
    "\n",
    "plt.figure(figsize=(40, 20))\n",
    "#plt.title(\"GPS_SPEED VS ENGINE_SPEED\",fontsize=60)\n",
    "\n",
    "#plt.xlabel(\"GPS_SPEED\",fontsize=40)\n",
    "#plt.ylabel(\"ENGINE_SPEED\",fontsize=40)\n",
    "plt.tick_params(labelsize =30)\n",
    "\n",
    "plt.scatter(X_train,Y_train,color='green')\n",
    "#plt.scatter(daf['AVG'],daf['KMPL'],color='red')\n",
    "# Plot Regression Solution line\n",
    "\n",
    "plt.axis([0,80,0,30])\n",
    "#plt.scatter(xx_quadratic,  model.predict(xx_quadratic),color='green')\n",
    "#plt.scatter(yy_quadratic,  model.predict(yy_quadratic),color='black')\n",
    "regression_line_y = model.predict([[0], [70]])\n",
    "print(regression_line_y)\n",
    "plt.plot([0,70 ], regression_line_y, \n",
    "         color='r', linestyle='-', linewidth=1)"
   ]
  },
  {
   "cell_type": "code",
   "execution_count": null,
   "metadata": {},
   "outputs": [],
   "source": []
  },
  {
   "cell_type": "code",
   "execution_count": null,
   "metadata": {},
   "outputs": [],
   "source": []
  }
 ],
 "metadata": {
  "kernelspec": {
   "display_name": "Python 3",
   "language": "python",
   "name": "python3"
  },
  "language_info": {
   "codemirror_mode": {
    "name": "ipython",
    "version": 3
   },
   "file_extension": ".py",
   "mimetype": "text/x-python",
   "name": "python",
   "nbconvert_exporter": "python",
   "pygments_lexer": "ipython3",
   "version": "3.6.5"
  }
 },
 "nbformat": 4,
 "nbformat_minor": 2
}
